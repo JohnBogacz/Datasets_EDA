{
 "cells": [
  {
   "cell_type": "markdown",
   "metadata": {},
   "source": [
    "# Models: Trees"
   ]
  },
  {
   "cell_type": "code",
   "execution_count": 23,
   "metadata": {},
   "outputs": [],
   "source": [
    "import os\n",
    "import gc\n",
    "import warnings\n",
    "import json"
   ]
  },
  {
   "cell_type": "code",
   "execution_count": 24,
   "metadata": {},
   "outputs": [],
   "source": [
    "import numpy as np\n",
    "import pandas as pd\n",
    "import matplotlib.pylab as plt\n",
    "import seaborn as sns\n",
    "import statsmodels as sm\n",
    "from prettytable import PrettyTable"
   ]
  },
  {
   "cell_type": "code",
   "execution_count": 25,
   "metadata": {},
   "outputs": [],
   "source": [
    "from sklearn.preprocessing import (\n",
    "    OrdinalEncoder,\n",
    "    StandardScaler,\n",
    "    RobustScaler,\n",
    "    OneHotEncoder,\n",
    ")\n",
    "from sklearn.preprocessing import TargetEncoder\n",
    "from sklearn.decomposition import (\n",
    "    PCA,\n",
    "    SparsePCA\n",
    ")\n",
    "from sklearn.pipeline import (\n",
    "    Pipeline,\n",
    "    make_pipeline,\n",
    ")\n",
    "from sklearn.compose import (\n",
    "    ColumnTransformer\n",
    ")\n",
    "from sklearn.model_selection import (\n",
    "    train_test_split\n",
    ")"
   ]
  },
  {
   "cell_type": "code",
   "execution_count": 26,
   "metadata": {},
   "outputs": [
    {
     "name": "stdout",
     "output_type": "stream",
     "text": [
      "/Users/school/Documents/repositories/Datasets_EDA/src/Allstate Claims Severity/\n"
     ]
    }
   ],
   "source": [
    "PATH = os.getcwd()\n",
    "PATH = PATH.split('/')[:-2]\n",
    "PATH = ''.join([str(folder + '/') for folder in PATH])\n",
    "print(PATH)"
   ]
  },
  {
   "cell_type": "code",
   "execution_count": 27,
   "metadata": {},
   "outputs": [],
   "source": [
    "with np.load(file=os.path.join(PATH, 'code', 'v2', 'Preprocessed_Pipeline_Data.npz')) as np_import:\n",
    "    X_train= np_import['X_train']\n",
    "    y_train= np_import['y_train']\n",
    "    X_test= np_import['X_test']\n",
    "    y_test= np_import['y_test']"
   ]
  },
  {
   "cell_type": "markdown",
   "metadata": {},
   "source": [
    "## (A) Trees"
   ]
  },
  {
   "cell_type": "code",
   "execution_count": 28,
   "metadata": {},
   "outputs": [],
   "source": [
    "from sklearn.metrics import (\n",
    "    make_scorer,\n",
    "    mean_absolute_error as mae,\n",
    "    mean_squared_error as mse,\n",
    "    r2_score as r2\n",
    ")"
   ]
  },
  {
   "cell_type": "code",
   "execution_count": 29,
   "metadata": {},
   "outputs": [],
   "source": [
    "from sklearn.tree import (\n",
    "    DecisionTreeRegressor as DTR,\n",
    "    plot_tree\n",
    ")\n",
    "from sklearn.ensemble import (\n",
    "    RandomForestRegressor as RF,\n",
    "    GradientBoostingRegressor as GBR\n",
    ")"
   ]
  },
  {
   "cell_type": "code",
   "execution_count": 30,
   "metadata": {},
   "outputs": [],
   "source": [
    "from sklearn.model_selection import (\n",
    "    GridSearchCV,\n",
    ")"
   ]
  },
  {
   "cell_type": "code",
   "execution_count": 31,
   "metadata": {},
   "outputs": [],
   "source": [
    "scores = {\n",
    "    'my_mae': make_scorer( # https://scikit-learn.org/stable/modules/generated/sklearn.metrics.make_scorer.html#sklearn.metrics.make_scorer\n",
    "        score_func= mae,\n",
    "    ),\n",
    "    'my_mse': make_scorer(\n",
    "        score_func= mse,\n",
    "    ),\n",
    "    'my_r2': make_scorer(\n",
    "        score_func= r2,\n",
    "    )\n",
    "}"
   ]
  },
  {
   "cell_type": "markdown",
   "metadata": {},
   "source": [
    "#### A.1: Decision Tree"
   ]
  },
  {
   "cell_type": "code",
   "execution_count": null,
   "metadata": {},
   "outputs": [],
   "source": [
    "# https://scikit-learn.org/stable/modules/generated/sklearn.tree.DecisionTreeRegressor.html#sklearn.tree.DecisionTreeRegressor\n",
    "dtr = DTR(\n",
    "    # criterion = \"squared_error\", # 'squared_error', 'friedman_mse', 'absolute_error', 'poisson'\n",
    "    # splitter= \"best\", # 'best', 'random'\n",
    "    # max_depth= None,\n",
    "    # min_samples_split= 2,\n",
    "    # min_samples_leaf= 1,\n",
    "    # min_weight_fraction_leaf= 0,\n",
    "    # max_features= 'sqrt', # 'sqrt', 'log2', None\n",
    "    # random_state= 4095,\n",
    "    # max_leaf_nodes= None,\n",
    "    # min_impurity_decrease= 0,\n",
    "    # ccp_alpha= 0\n",
    ")"
   ]
  },
  {
   "cell_type": "code",
   "execution_count": null,
   "metadata": {},
   "outputs": [],
   "source": [
    "dtr_params = {\n",
    "    'criterion': [ # Used to determine split on each node\n",
    "        'squared_error', # DEFAULT: mse, minimize L2 loss\n",
    "        'friedman_mse', # ?\n",
    "        'absolute_error', # mae, minimize L1 loss\n",
    "        #'poisson'\n",
    "        ],\n",
    "    'splitter': [ # how to split on each node\n",
    "        'best', # DEFAULT \n",
    "        'random'\n",
    "        ],\n",
    "    # 'max_depth': [],\n",
    "    # 'min_samples_split': [],\n",
    "    # 'min_samples_leaf': [],\n",
    "    # 'min_weight_fraction_leaf': [],\n",
    "    'max_features': [ \n",
    "        'sqrt', # sqft(129) = 11\n",
    "        'log2', # log_2(129) = 7\n",
    "        20,\n",
    "        40,\n",
    "        60,\n",
    "        80,\n",
    "        100,\n",
    "        120,\n",
    "        ],\n",
    "    'random_state': [\n",
    "        4095\n",
    "        ],\n",
    "    # 'max_leaf_nodes': [],\n",
    "    # 'min_impurity_decrease': [],\n",
    "    # 'ccp_alpha': []\n",
    "}"
   ]
  },
  {
   "cell_type": "code",
   "execution_count": null,
   "metadata": {},
   "outputs": [],
   "source": [
    "dtr_gs = GridSearchCV( # https://scikit-learn.org/stable/modules/generated/sklearn.model_selection.GridSearchCV.html#sklearn.model_selection.GridSearchCV\n",
    "    estimator= dtr,\n",
    "    param_grid= dtr_params,\n",
    "    scoring= scores,\n",
    "    n_jobs= -1,\n",
    "    refit= False,\n",
    "    cv= 3,\n",
    "    verbose= 1,\n",
    "    pre_dispatch= 8,\n",
    "    # error_score: Float | str = ...,\n",
    "    # return_train_score: bool = False\n",
    ")"
   ]
  },
  {
   "cell_type": "code",
   "execution_count": null,
   "metadata": {},
   "outputs": [],
   "source": [
    "dtr_gs.fit(\n",
    "    X= X_train,\n",
    "    y= y_train,\n",
    ")"
   ]
  },
  {
   "cell_type": "code",
   "execution_count": null,
   "metadata": {},
   "outputs": [],
   "source": [
    "print(json.dumps(list(dtr_gs.cv_results_.keys()), indent=2))"
   ]
  },
  {
   "cell_type": "code",
   "execution_count": null,
   "metadata": {},
   "outputs": [],
   "source": [
    "dtr_mae_params= dtr_gs.cv_results_['params'][np.argmin(dtr_gs.cv_results_['mean_test_my_mae'])]\n",
    "dtr_mse_params= dtr_gs.cv_results_['params'][np.argmin(dtr_gs.cv_results_['mean_test_my_mse'])]\n",
    "dtr_r2_params= dtr_gs.cv_results_['params'][np.argmax(dtr_gs.cv_results_['mean_test_my_r2'])]\n",
    "\n",
    "print(f\"dtr_mae: {dtr_mae_params} | mae: {dtr_gs.cv_results_['mean_test_my_mae'][np.argmin(dtr_gs.cv_results_['mean_test_my_mae'])]:.2f}\")\n",
    "print(f\"dtr_mse: {dtr_mse_params} | mse: {dtr_gs.cv_results_['mean_test_my_mse'][np.argmin(dtr_gs.cv_results_['mean_test_my_mse'])]:.2f}\")\n",
    "print(f\"dtr_r2:  {dtr_r2_params}  | r2: {dtr_gs.cv_results_['mean_test_my_r2'][np.argmax(dtr_gs.cv_results_['mean_test_my_r2'])]:.2f}\")"
   ]
  },
  {
   "cell_type": "markdown",
   "metadata": {},
   "source": [
    "#### A.2: Random Forest"
   ]
  },
  {
   "cell_type": "code",
   "execution_count": null,
   "metadata": {},
   "outputs": [],
   "source": [
    "rf = RF( # https://scikit-learn.org/stable/modules/generated/sklearn.ensemble.RandomForestRegressor.html#sklearn.ensemble.RandomForestRegressor\n",
    "    # n_estimators= 100,\n",
    "    # criterion= \"squared_error\",\n",
    "    # max_depth= None,\n",
    "    # min_samples_split= 2,\n",
    "    # min_samples_leaf= 1,\n",
    "    # min_weight_fraction_leaf= 0,\n",
    "    # max_features= 1,\n",
    "    # max_leaf_nodes= None,\n",
    "    # min_impurity_decrease= 0,\n",
    "    # bootstrap= True,\n",
    "    # oob_score= False,\n",
    "    # n_jobs= None,\n",
    "    # random_state= None,\n",
    "    # verbose= 0,\n",
    "    # warm_start= False,\n",
    "    # ccp_alpha= 0,\n",
    "    # max_samples= None\n",
    ")"
   ]
  },
  {
   "cell_type": "code",
   "execution_count": null,
   "metadata": {},
   "outputs": [],
   "source": [
    "rf_params = {\n",
    "    'n_estimators': [\n",
    "        100,\n",
    "        250,\n",
    "        500,\n",
    "        1000,\n",
    "        ],\n",
    "    'criterion': [\n",
    "        'squared_error',\n",
    "        'absolute_error',\n",
    "        'friedman_mse'\n",
    "        ],\n",
    "    # 'max_depth': [],\n",
    "    # 'min_samples_split': [],\n",
    "    # 'min_samples_leaf': [],\n",
    "    # 'min_weight_fraction_leaf': [],\n",
    "    'max_features': [\n",
    "        'sqrt',\n",
    "        'log2',\n",
    "        20,\n",
    "        40,\n",
    "        60,\n",
    "        80,\n",
    "        100,\n",
    "        120,],\n",
    "    # 'max_leaf_nodes': [],\n",
    "    # 'min_impurity_decrease': [],\n",
    "    # 'bootstrap': [],\n",
    "    # 'oob_score': [],\n",
    "    'n_jobs': [\n",
    "        -1\n",
    "        ],\n",
    "    'random_state': [\n",
    "        4095\n",
    "        ],\n",
    "    'verbose': [\n",
    "        0\n",
    "        ],\n",
    "    'warm_start': [\n",
    "        True,\n",
    "        False\n",
    "        ],\n",
    "    #'ccp_alpha': [],\n",
    "    #'max_samples': []\n",
    "}"
   ]
  },
  {
   "cell_type": "code",
   "execution_count": null,
   "metadata": {},
   "outputs": [],
   "source": [
    "rf_gs = GridSearchCV( # https://scikit-learn.org/stable/modules/generated/sklearn.model_selection.GridSearchCV.html#sklearn.model_selection.GridSearchCV\n",
    "    estimator= rf,\n",
    "    param_grid= rf_params,\n",
    "    scoring= scores,\n",
    "    n_jobs= -1,\n",
    "    refit= False,\n",
    "    cv= 3,\n",
    "    verbose= 1,\n",
    "    pre_dispatch= 8,\n",
    "    # error_score: Float | str = ...,\n",
    "    # return_train_score: bool = False\n",
    ")"
   ]
  },
  {
   "cell_type": "code",
   "execution_count": null,
   "metadata": {},
   "outputs": [],
   "source": [
    "rf_gs.fit(\n",
    "    X= X_train,\n",
    "    y= y_train,\n",
    ")"
   ]
  },
  {
   "cell_type": "code",
   "execution_count": null,
   "metadata": {},
   "outputs": [],
   "source": [
    "rf_mae_params= rf_gs.cv_results_['params'][np.argmin(rf_gs.cv_results_['mean_test_my_mae'])]\n",
    "rf_mse_params= rf_gs.cv_results_['params'][np.argmin(rf_gs.cv_results_['mean_test_my_mse'])]\n",
    "rf_r2_params= rf_gs.cv_results_['params'][np.argmax(rf_gs.cv_results_['mean_test_my_r2'])]\n",
    "\n",
    "print(f\"rf_mae: {rf_mae_params} | mae: {rf_gs.cv_results_['mean_test_my_mae'][np.argmin(rf_gs.cv_results_['mean_test_my_mae'])]:.2f}\")\n",
    "print(f\"rf_mse: {rf_mse_params} | mse: {rf_gs.cv_results_['mean_test_my_mse'][np.argmin(rf_gs.cv_results_['mean_test_my_mse'])]:.2f}\")\n",
    "print(f\"rf_r2:  {rf_r2_params}  | r2: {rf_gs.cv_results_['mean_test_my_r2'][np.argmax(rf_gs.cv_results_['mean_test_my_r2'])]:.2f}\")"
   ]
  },
  {
   "cell_type": "markdown",
   "metadata": {},
   "source": [
    "#### A.3: Gradient Boosting Regressor"
   ]
  },
  {
   "cell_type": "code",
   "execution_count": null,
   "metadata": {},
   "outputs": [],
   "source": [
    "gbr = GBR( # https://scikit-learn.org/stable/modules/generated/sklearn.ensemble.GradientBoostingRegressor.html#sklearn.ensemble.GradientBoostingRegressor\n",
    "    loss= \"squared_error\",\n",
    "    learning_rate= 0.1,\n",
    "    n_estimators= 100,\n",
    "    subsample= 1,\n",
    "    criterion= \"friedman_mse\",\n",
    "    min_samples_split= 2,\n",
    "    min_samples_leaf= 1,\n",
    "    min_weight_fraction_leaf= 0,\n",
    "    max_depth= 3,\n",
    "    min_impurity_decrease= 0,\n",
    "    init= None,\n",
    "    random_state= None,\n",
    "    max_features= None,\n",
    "    alpha= 0.9,\n",
    "    verbose= 0,\n",
    "    max_leaf_nodes= None,\n",
    "    warm_start= False,\n",
    "    validation_fraction= 0.1,\n",
    "    n_iter_no_change= None,\n",
    "    tol= 0.0001,\n",
    "    ccp_alpha= 0\n",
    ")"
   ]
  },
  {
   "cell_type": "code",
   "execution_count": null,
   "metadata": {},
   "outputs": [],
   "source": [
    "gbr_params = {\n",
    "    'loss': [\n",
    "        'squared_error',\n",
    "        'absolute_error',\n",
    "        'huber',\n",
    "        # 'quantile'\n",
    "        ],\n",
    "    'learning_rate': [\n",
    "        0.1,\n",
    "        0.01,\n",
    "        0.001\n",
    "        ],\n",
    "    'n_estimators': [\n",
    "        100,\n",
    "        250,\n",
    "        500,\n",
    "        ],\n",
    "    #'subsample': [],\n",
    "    'criterion': [\n",
    "        'friedman_mse',\n",
    "        'squared_error'\n",
    "        ],\n",
    "    # 'min_samples_split': [],\n",
    "    # 'min_samples_leaf': [],\n",
    "    # 'min_weight_fraction_leaf': [],\n",
    "    # 'max_depth': [],\n",
    "    # 'min_impurity_decrease': [],\n",
    "    # 'init': [],\n",
    "    'random_state': [\n",
    "        4095\n",
    "        ],\n",
    "    'max_features': [\n",
    "        'sqrt',\n",
    "        'log2',\n",
    "        20,\n",
    "        40,\n",
    "        60,\n",
    "        80,\n",
    "        100,\n",
    "        120\n",
    "        ],\n",
    "    # 'alpha': [],\n",
    "    'verbose': [\n",
    "        0\n",
    "        ],\n",
    "    #'max_leaf_nodes': [],\n",
    "    'warm_start': [\n",
    "        True,\n",
    "        False],\n",
    "    'validation_fraction': [\n",
    "        0.1,\n",
    "        0.3\n",
    "        ],\n",
    "    'n_iter_no_change': [\n",
    "        20\n",
    "        ],\n",
    "    #'tol': [],\n",
    "    #'ccp_alpha': []\n",
    "}"
   ]
  },
  {
   "cell_type": "code",
   "execution_count": null,
   "metadata": {},
   "outputs": [],
   "source": [
    "gbr_gs = GridSearchCV( # https://scikit-learn.org/stable/modules/generated/sklearn.model_selection.GridSearchCV.html#sklearn.model_selection.GridSearchCV\n",
    "    estimator= gbr,\n",
    "    param_grid= gbr_params,\n",
    "    scoring= scores,\n",
    "    n_jobs= -1,\n",
    "    refit= False,\n",
    "    cv= 3,\n",
    "    verbose= 1,\n",
    "    pre_dispatch= 8,\n",
    "    # error_score: Float | str = ...,\n",
    "    # return_train_score: bool = False\n",
    ")"
   ]
  },
  {
   "cell_type": "code",
   "execution_count": null,
   "metadata": {},
   "outputs": [],
   "source": [
    "gbr_gs.fit(\n",
    "    X= X_train,\n",
    "    y= y_train,\n",
    ")"
   ]
  },
  {
   "cell_type": "code",
   "execution_count": null,
   "metadata": {},
   "outputs": [],
   "source": [
    "gbr_mae_params= gbr_gs.cv_results_['params'][np.argmin(gbr_gs.cv_results_['mean_test_my_mae'])]\n",
    "gbr_mse_params= gbr_gs.cv_results_['params'][np.argmin(gbr_gs.cv_results_['mean_test_my_mse'])]\n",
    "gbr_r2_params= gbr_gs.cv_results_['params'][np.argmax(gbr_gs.cv_results_['mean_test_my_r2'])]\n",
    "\n",
    "print(f\"rf_mae: {gbr_mae_params} | mae: {gbr_gs.cv_results_['mean_test_my_mae'][np.argmin(gbr_gs.cv_results_['mean_test_my_mae'])]:.2f}\")\n",
    "print(f\"rf_mse: {gbr_mse_params} | mse: {gbr_gs.cv_results_['mean_test_my_mse'][np.argmin(gbr_gs.cv_results_['mean_test_my_mse'])]:.2f}\")\n",
    "print(f\"rf_r2:  {gbr_r2_params}  | r2: {gbr_gs.cv_results_['mean_test_my_r2'][np.argmax(gbr_gs.cv_results_['mean_test_my_r2'])]:.2f}\")"
   ]
  }
 ],
 "metadata": {
  "kernelspec": {
   "display_name": "matt_env",
   "language": "python",
   "name": "python3"
  },
  "language_info": {
   "codemirror_mode": {
    "name": "ipython",
    "version": 3
   },
   "file_extension": ".py",
   "mimetype": "text/x-python",
   "name": "python",
   "nbconvert_exporter": "python",
   "pygments_lexer": "ipython3",
   "version": "3.12.3"
  }
 },
 "nbformat": 4,
 "nbformat_minor": 2
}
