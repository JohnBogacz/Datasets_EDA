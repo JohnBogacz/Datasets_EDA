{
 "cells": [
  {
   "cell_type": "markdown",
   "metadata": {},
   "source": [
    "# Kaggle - Allstate Claim Severity - [LINK](https://www.kaggle.com/competitions/allstate-claims-severity/data) "
   ]
  },
  {
   "cell_type": "code",
   "execution_count": 1,
   "metadata": {},
   "outputs": [],
   "source": [
    "import pandas as pd\n",
    "import matplotlib.pylab as plt\n",
    "import seaborn as sn\n",
    "import plotly\n",
    "import statsmodels as sm\n",
    "import xgboost as xgb\n",
    "\n",
    "import os"
   ]
  },
  {
   "cell_type": "code",
   "execution_count": 2,
   "metadata": {},
   "outputs": [
    {
     "name": "stdout",
     "output_type": "stream",
     "text": [
      "                   id      cat1      cat2      cat3      cat4      cat5  \\\n",
      "0            1.000000         A         B         A         B         A   \n",
      "1            2.000000         A         B         A         A         A   \n",
      "2            5.000000         A         B         A         A         B   \n",
      "3           10.000000         B         B         A         B         A   \n",
      "4           11.000000         A         B         A         B         A   \n",
      "...               ...       ...       ...       ...       ...       ...   \n",
      "188314  587624.000000         A         A         A         A         A   \n",
      "188315  587630.000000         A         B         A         A         A   \n",
      "188316  587632.000000         A         B         A         A         A   \n",
      "188317  587633.000000         B         A         A         B         A   \n",
      "188318       0.348388   .672862   .551054   .344450   .447670   .538810   \n",
      "\n",
      "            cat6      cat7      cat8      cat9  ...     cont6     cont7  \\\n",
      "0              A         A         A         B  ...  0.718367  0.335060   \n",
      "1              A         A         A         B  ...  0.438917  0.436585   \n",
      "2              A         A         A         B  ...  0.289648  0.315545   \n",
      "3              A         A         A         B  ...  0.440945  0.391128   \n",
      "4              A         A         A         B  ...  0.178193  0.247408   \n",
      "...          ...       ...       ...       ...  ...       ...       ...   \n",
      "188314         B         A         A         A  ...  0.334270  0.382000   \n",
      "188315         A         A         B         B  ...  0.345883  0.370534   \n",
      "188316         A         A         A         B  ...  0.704364  0.562866   \n",
      "188317         A         A         A         A  ...  0.844563  0.533048   \n",
      "188318   .492200   .481306   .654753   .406237  ...       NaN       NaN   \n",
      "\n",
      "          cont8    cont9   cont10    cont11    cont12    cont13    cont14  \\\n",
      "0       0.30260  0.67135  0.83510  0.569745  0.594646  0.822493  0.714843   \n",
      "1       0.60087  0.35127  0.43919  0.338312  0.366307  0.611431  0.304496   \n",
      "2       0.27320  0.26076  0.32446  0.381398  0.373424  0.195709  0.774425   \n",
      "3       0.31796  0.32128  0.44467  0.327915  0.321570  0.605077  0.602642   \n",
      "4       0.24564  0.22089  0.21230  0.204687  0.202213  0.246011  0.432606   \n",
      "...         ...      ...      ...       ...       ...       ...       ...   \n",
      "188314  0.63475  0.40455  0.47779  0.307628  0.301921  0.318646  0.305872   \n",
      "188315  0.24564  0.45808  0.47779  0.445614  0.443374  0.339244  0.503888   \n",
      "188316  0.34987  0.44767  0.53881  0.863052  0.852865  0.654753  0.721707   \n",
      "188317  0.97123  0.93383  0.83814  0.932195  0.946432  0.810511  0.721460   \n",
      "188318      NaN      NaN      NaN       NaN       NaN       NaN       NaN   \n",
      "\n",
      "           loss  \n",
      "0       2213.18  \n",
      "1       1283.60  \n",
      "2       3005.09  \n",
      "3        939.85  \n",
      "4       2763.85  \n",
      "...         ...  \n",
      "188314  1108.34  \n",
      "188315  5762.64  \n",
      "188316  1562.87  \n",
      "188317  4751.72  \n",
      "188318      NaN  \n",
      "\n",
      "[188319 rows x 132 columns]\n",
      "(188319, 132)\n"
     ]
    }
   ],
   "source": [
    "PATH = os.getcwd()\n",
    "test_df = pd.read_csv(\n",
    "    filepath_or_buffer= os.path.join(PATH, 'train.csv'),\n",
    "    on_bad_lines= 'skip' # issue on line 188320\n",
    ")\n",
    "print(test_df)\n",
    "print(test_df.shape)"
   ]
  }
 ],
 "metadata": {
  "kernelspec": {
   "display_name": "MattEDA",
   "language": "python",
   "name": "python3"
  },
  "language_info": {
   "codemirror_mode": {
    "name": "ipython",
    "version": 3
   },
   "file_extension": ".py",
   "mimetype": "text/x-python",
   "name": "python",
   "nbconvert_exporter": "python",
   "pygments_lexer": "ipython3",
   "version": "3.12.3"
  }
 },
 "nbformat": 4,
 "nbformat_minor": 2
}
